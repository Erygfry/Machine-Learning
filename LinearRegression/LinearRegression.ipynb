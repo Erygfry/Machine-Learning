{
 "cells": [
  {
   "cell_type": "code",
   "execution_count": 2,
   "id": "545a09e6-0cee-4a9e-9da5-5e779533e7ea",
   "metadata": {},
   "outputs": [],
   "source": [
    "import numpy as np\n",
    "from matplotlib import pyplot as plt\n",
    "import random\n",
    "import utils"
   ]
  },
  {
   "cell_type": "code",
   "execution_count": 3,
   "id": "900ea909-d9ba-49a0-bcf4-86f7c7d5366a",
   "metadata": {},
   "outputs": [],
   "source": [
    "#Квадратичный подход\n",
    "def square_trick(base_price, price_per_room, num_rooms, price, learning_rate):\n",
    "    predicted_price = price_per_room * num_rooms + base_price\n",
    "    base_price = base_price + learning_rate * (price - predicted_price)\n",
    "    price_per_room = price_per_room + learning_rate * num_rooms *(price - predicted_price)\n",
    "    return base_price, price_per_room\n"
   ]
  },
  {
   "cell_type": "code",
   "execution_count": 26,
   "id": "ec3199ae-008d-4293-811d-f27bb6381440",
   "metadata": {},
   "outputs": [],
   "source": [
    "#Абсолютный подход\n",
    "def absolute_trick(base_price, price_per_room, num_rooms, price, learning_rate):\n",
    "    predicted_price = price_per_room * num_rooms + base_price\n",
    "    if price > predicted_price:\n",
    "        price_per_room += learning_rate * num_rooms\n",
    "        base_price += learning_rate\n",
    "    else:\n",
    "        price_per_room -= learning_rate * num_rooms\n",
    "        base_price -= learning_rate\n",
    "    return base_price, price_per_room"
   ]
  },
  {
   "cell_type": "code",
   "execution_count": 16,
   "id": "5e6a1216-bb03-4966-8a46-6aa3138af7c6",
   "metadata": {},
   "outputs": [],
   "source": [
    "#Линейная регрессия\n",
    "def linear_regression(features, labels, learning_rate = 0.01, epochs = 1000):\n",
    "    price_per_room = random.randint(10, 30)\n",
    "    base_price = random.randint(5, 10)\n",
    "    errors = []\n",
    "    for epoch in range(epochs):\n",
    "        predictions = features[0]*price_per_room+base_price\n",
    "        errors.append(rmse(labels, predictions))\n",
    "        i = random.randint(0, len(features) - 1)\n",
    "        num_rooms = features[i]\n",
    "        price = labels[i]\n",
    "        base_price, price_per_room = square_trick(base_price, price_per_room, num_rooms, price, learning_rate = learning_rate)\n",
    "        \n",
    "    return base_price, price_per_room, errors\n",
    "        "
   ]
  },
  {
   "cell_type": "code",
   "execution_count": 15,
   "id": "28d026f2-77e1-4673-a2b7-da79fe1594ed",
   "metadata": {},
   "outputs": [],
   "source": [
    "#квадратный корень из средней квадратической ошибки\n",
    "def rmse(labels, predictions):\n",
    "    n = len(labels)\n",
    "    diff = np.subtract(labels, predictions)\n",
    "    return np.sqrt(1.0 / n * (np.dot(diff, diff)))"
   ]
  },
  {
   "cell_type": "code",
   "execution_count": 23,
   "id": "e6312c01-189a-45dd-abb4-4bece35ddb44",
   "metadata": {},
   "outputs": [
    {
     "name": "stdout",
     "output_type": "stream",
     "text": [
      "[1 2 3 5 6 7] \n",
      " [155 197 244 356 407 448] \n",
      "\n"
     ]
    },
    {
     "data": {
      "image/png": "[encoded data removed]",
      "text/plain": [
       "<Figure size 432x288 with 1 Axes>"
      ]
     },
     "metadata": {
      "needs_background": "light"
     },
     "output_type": "display_data"
    },
    {
     "data": {
      "image/png": "[encoded data removed]",
      "text/plain": [
       "<Figure size 432x288 with 1 Axes>"
      ]
     },
     "metadata": {
      "needs_background": "light"
     },
     "output_type": "display_data"
    }
   ],
   "source": [
    "features = np.array([1,2,3,5,6,7])\n",
    "labels = np.array([155, 197, 244, 356,407,448])\n",
    "print(features, '\\n' , labels, '\\n')\n",
    "\n",
    "utils.plot_points(features, labels)\n",
    "\n",
    "base_price, price_per_room, errors = linear_regression(features, labels, learning_rate = 0.01, epochs = 10000)\n",
    "\n",
    "utils.draw_line(price_per_room, base_price)\n",
    "\n",
    "plt.show()\n",
    "plt.scatter(range(len(errors)), errors)\n",
    "plt.show()"
   ]
  },
  {
   "cell_type": "code",
   "execution_count": null,
   "id": "3a88b939-0006-4610-963a-7d264db8323b",
   "metadata": {},
   "outputs": [],
   "source": []
  },
  {
   "cell_type": "code",
   "execution_count": null,
   "id": "8c914f91-57cf-4d54-8945-f5e6f44d60b2",
   "metadata": {},
   "outputs": [],
   "source": []
  }
 ],
 "metadata": {
  "kernelspec": {
   "display_name": "Python 3",
   "language": "python",
   "name": "python3"
  },
  "language_info": {
   "codemirror_mode": {
    "name": "ipython",
    "version": 3
   },
   "file_extension": ".py",
   "mimetype": "text/x-python",
   "name": "python",
   "nbconvert_exporter": "python",
   "pygments_lexer": "ipython3",
   "version": "3.8.8"
  }
 },
 "nbformat": 4,
 "nbformat_minor": 5
}
